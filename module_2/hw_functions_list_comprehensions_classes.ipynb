{
 "cells": [
  {
   "cell_type": "markdown",
   "id": "1846cdd5",
   "metadata": {
    "ExecuteTime": {
     "end_time": "2023-06-16T11:08:23.474987Z",
     "start_time": "2023-06-16T11:08:23.466341Z"
    }
   },
   "source": [
    "В цьому наборі завдань попрацюємо з фукнціями, класами та list comprehensions.\n",
    "Нагадую синтаксис list comprehension \n",
    "- з умовою if:\n",
    "```\n",
    "newlist = [expression for item in iterable if condition == True]\n",
    "```\n",
    "\n",
    "- з умовою if...else:\n",
    "```\n",
    "newlist = [expression if condition == True else second_expression for item in iterable ]\n",
    "```"
   ]
  },
  {
   "cell_type": "markdown",
   "id": "306cbd4e",
   "metadata": {
    "ExecuteTime": {
     "end_time": "2023-06-15T10:01:54.759901Z",
     "start_time": "2023-06-15T10:01:54.754516Z"
    }
   },
   "source": [
    "1.Задана функція `strange_func`. \n",
    "Запустіть цю функцію на обчислення всіх елементів зі списку `input_list`. Результат обчислень запишіть у `output_list` та виведіть `output_list` на екран.\n",
    "\n",
    "Реалізуйте прохід всіх елементів списку `input_list` через цикл та через `list comprehension` - двома способами окремо."
   ]
  },
  {
   "cell_type": "code",
   "execution_count": 1,
   "id": "b5bab760",
   "metadata": {
    "ExecuteTime": {
     "end_time": "2023-06-15T10:08:21.217301Z",
     "start_time": "2023-06-15T10:08:21.213956Z"
    }
   },
   "outputs": [],
   "source": [
    "def strange_func(number: int) -> str:\n",
    "    if number < 0:\n",
    "        return \"слон\"\n",
    "    else:\n",
    "        return \"жираф\""
   ]
  },
  {
   "cell_type": "code",
   "execution_count": 2,
   "id": "61d82a3e",
   "metadata": {
    "ExecuteTime": {
     "end_time": "2023-06-15T10:11:23.708950Z",
     "start_time": "2023-06-15T10:11:23.703596Z"
    }
   },
   "outputs": [],
   "source": [
    "input_list = [14, -48, 26, 33, 50, 36, 47, -3, 32, -6, -39, -1, 14, -35, 31, -28, 32, 4, 33, 11, -7, 43, -5, 17, -33, -37, 45, -27, -29, 14]"
   ]
  },
  {
   "cell_type": "code",
   "execution_count": 3,
   "id": "8eb67fab",
   "metadata": {},
   "outputs": [
    {
     "name": "stdout",
     "output_type": "stream",
     "text": [
      "['жираф', 'слон', 'жираф', 'жираф', 'жираф', 'жираф', 'жираф', 'слон', 'жираф', 'слон', 'слон', 'слон', 'жираф', 'слон', 'жираф', 'слон', 'жираф', 'жираф', 'жираф', 'жираф', 'слон', 'жираф', 'слон', 'жираф', 'слон', 'слон', 'жираф', 'слон', 'слон', 'жираф']\n"
     ]
    }
   ],
   "source": [
    "# List Comprehension\n",
    "\n",
    "output_list = [strange_func(num) for num in input_list]\n",
    "print(output_list)"
   ]
  },
  {
   "cell_type": "code",
   "execution_count": 4,
   "id": "974ed725",
   "metadata": {},
   "outputs": [
    {
     "name": "stdout",
     "output_type": "stream",
     "text": [
      "['жираф', 'слон', 'жираф', 'жираф', 'жираф', 'жираф', 'жираф', 'слон', 'жираф', 'слон', 'слон', 'слон', 'жираф', 'слон', 'жираф', 'слон', 'жираф', 'жираф', 'жираф', 'жираф', 'слон', 'жираф', 'слон', 'жираф', 'слон', 'слон', 'жираф', 'слон', 'слон', 'жираф']\n"
     ]
    }
   ],
   "source": [
    "# For loop\n",
    "\n",
    "output_list_1 = []\n",
    "\n",
    "for num1 in input_list:\n",
    "    output_list_1.append(strange_func(num1))\n",
    "\n",
    "print(output_list_1)"
   ]
  },
  {
   "cell_type": "markdown",
   "id": "39a81ffe",
   "metadata": {
    "ExecuteTime": {
     "end_time": "2023-06-15T10:11:44.344785Z",
     "start_time": "2023-06-15T10:11:44.338699Z"
    }
   },
   "source": [
    "Очікуваний результат: ```['жираф', 'слон', 'жираф', 'жираф', 'жираф', 'жираф', 'жираф', 'слон', 'жираф', 'слон', 'слон', 'слон', 'жираф', 'слон', 'жираф', 'слон', 'жираф', 'жираф', 'жираф', 'жираф', 'слон', 'жираф', 'слон', 'жираф', 'слон', 'слон', 'жираф', 'слон', 'слон', 'жираф']```"
   ]
  },
  {
   "cell_type": "markdown",
   "id": "cd421b5b",
   "metadata": {},
   "source": [
    "2.Напишіть функцію `custom_func`, яка приймає на вхід число, перевіряє, чи воно є цілочислельного типу, і якщо так, то перевіряє число на парність: \n",
    "- якщо парне - вертає це число в степені 3, \n",
    "- а якщо непарне - це число мінус 10.  \n",
    "\n",
    "Якщо ж число на вході не цілочисельного типу, функція вертає 0.  \n",
    "\n",
    "Запустіть цю функцію на обчислення всіх чисел зі списку `input_list`. Результат обчислень запишіть у `output_list` та виведіть `output_list` на екран. \n",
    "\n",
    "Реалізуйте прохід всіх чисел списку `input_list` через цикл та через `list comprehension` - двома способами окремо."
   ]
  },
  {
   "cell_type": "code",
   "execution_count": 5,
   "id": "384b00e0",
   "metadata": {
    "ExecuteTime": {
     "end_time": "2023-06-15T10:10:34.758320Z",
     "start_time": "2023-06-15T10:10:34.754358Z"
    }
   },
   "outputs": [],
   "source": [
    "input_list = [36, 11.1, 91, 93, 26, 12.3213, 69, 50, 58, 22, 77, 18, 24, 55, 11, 76, 10.111, 39, 49, 94, 34, 40, 13, 111.111, 26, 44, 11, 34, 30, 39, 84, 37, 16, 1]"
   ]
  },
  {
   "cell_type": "code",
   "execution_count": 6,
   "id": "a9220273",
   "metadata": {},
   "outputs": [],
   "source": [
    "def custom_func(input_number):\n",
    "    \n",
    "    assert type(input_number) == int or type(input_number) == float\n",
    "    \n",
    "    if isinstance(input_number, float):\n",
    "        return 0\n",
    "    else:\n",
    "        if input_number % 2 == 0:\n",
    "            return input_number ** 3\n",
    "        else:\n",
    "            return input_number - 10"
   ]
  },
  {
   "cell_type": "code",
   "execution_count": 7,
   "id": "cefc4ec5",
   "metadata": {},
   "outputs": [
    {
     "name": "stdout",
     "output_type": "stream",
     "text": [
      "[46656, 0, 81, 83, 17576, 0, 59, 125000, 195112, 10648, 67, 5832, 13824, 45, 1, 438976, 0, 29, 39, 830584, 39304, 64000, 3, 0, 17576, 85184, 1, 39304, 27000, 29, 592704, 27, 4096, -9]\n"
     ]
    }
   ],
   "source": [
    "# List comprehension\n",
    "output_list = [custom_func(num) for num in input_list]\n",
    "print(output_list)"
   ]
  },
  {
   "cell_type": "code",
   "execution_count": 8,
   "id": "923cf6d4",
   "metadata": {},
   "outputs": [
    {
     "name": "stdout",
     "output_type": "stream",
     "text": [
      "[46656, 0, 81, 83, 17576, 0, 59, 125000, 195112, 10648, 67, 5832, 13824, 45, 1, 438976, 0, 29, 39, 830584, 39304, 64000, 3, 0, 17576, 85184, 1, 39304, 27000, 29, 592704, 27, 4096, -9]\n"
     ]
    }
   ],
   "source": [
    "# For loop\n",
    "\n",
    "output_list_2 = []\n",
    "\n",
    "for num2 in input_list:\n",
    "    output_list_2.append(custom_func(num2))\n",
    "\n",
    "print(output_list_2)"
   ]
  },
  {
   "cell_type": "markdown",
   "id": "e2723875",
   "metadata": {
    "ExecuteTime": {
     "end_time": "2023-06-15T10:04:46.583145Z",
     "start_time": "2023-06-15T10:04:46.577899Z"
    }
   },
   "source": [
    "Очікуваний результат:\n",
    "```[46656, 0, 81, 83, 17576, 0, 59, 125000, 195112, 10648, 67, 5832, 13824, 45, 1, 438976, 0, 29, 39, 830584, 39304, 64000, 3, 0, 17576, 85184, 1, 39304, 27000, 29, 592704, 27, 4096, -9]```"
   ]
  },
  {
   "cell_type": "markdown",
   "id": "12db4919",
   "metadata": {
    "ExecuteTime": {
     "end_time": "2023-06-15T10:06:39.204299Z",
     "start_time": "2023-06-15T10:06:39.198232Z"
    }
   },
   "source": [
    "Аби програмно порівняти ваш результат за очікуваним - використайте код нижче:"
   ]
  },
  {
   "cell_type": "code",
   "execution_count": 9,
   "id": "84c13de2",
   "metadata": {
    "ExecuteTime": {
     "end_time": "2023-06-15T10:06:16.137271Z",
     "start_time": "2023-06-15T10:06:16.131305Z"
    }
   },
   "outputs": [
    {
     "data": {
      "text/plain": [
       "True"
      ]
     },
     "execution_count": 9,
     "metadata": {},
     "output_type": "execute_result"
    }
   ],
   "source": [
    "output_list == [46656, 0, 81, 83, 17576, 0, 59, 125000, 195112, 10648, 67, 5832, 13824, 45, 1, 438976, 0, 29, 39, 830584, 39304, 64000, 3, 0, 17576, 85184, 1, 39304, 27000, 29, 592704, 27, 4096, -9]"
   ]
  },
  {
   "cell_type": "markdown",
   "id": "602e8fd8",
   "metadata": {
    "ExecuteTime": {
     "end_time": "2023-06-15T09:50:40.693543Z",
     "start_time": "2023-06-15T09:50:40.680059Z"
    }
   },
   "source": [
    "3.Напишіть функцію, яка отримує список чисел і повертає інший список із квадратами чисел, які діляться на 2 із вихідного списку. Наприклад, якщо на вході список [1,2,3,4], то на виході буде список [4,8].\n",
    "\n",
    "Запустіть функцію на вхідних списках `numbers_1`, `numbers_2`, `numbers_3` та виведіть результат роботи фукнції на екран."
   ]
  },
  {
   "cell_type": "code",
   "execution_count": 10,
   "id": "4ed96c9d",
   "metadata": {
    "ExecuteTime": {
     "end_time": "2023-06-15T10:17:52.021673Z",
     "start_time": "2023-06-15T10:17:52.016216Z"
    }
   },
   "outputs": [],
   "source": [
    "numbers_1 = [1, 2, 3, 4, 5, 6, 7, 8, 9, 10]\n",
    "numbers_2 = [-18, 35, 50, 2, -39, 8, -39, -15, 14, -42]\n",
    "numbers_3 = [-3.1, 1.11, 3.48, 4.48, 4.68, -1.59, -1.8, 1.76, 4.7, 2.0]"
   ]
  },
  {
   "cell_type": "code",
   "execution_count": 11,
   "id": "d8b1a5d7",
   "metadata": {},
   "outputs": [],
   "source": [
    "def even_number_list(input_list: list) -> list:\n",
    "    return [num ** 2 for num in num_list if num % 2 == 0]"
   ]
  },
  {
   "cell_type": "code",
   "execution_count": 12,
   "id": "4f11349f",
   "metadata": {},
   "outputs": [
    {
     "name": "stdout",
     "output_type": "stream",
     "text": [
      "[4, 16, 36, 64, 100]\n",
      "[324, 2500, 4, 64, 196, 1764]\n",
      "[4.0]\n"
     ]
    }
   ],
   "source": [
    "numbers = [\n",
    "    numbers_1,\n",
    "    numbers_2,\n",
    "    numbers_3\n",
    "]\n",
    "\n",
    "for num_list in numbers:\n",
    "    print(even_number_list(num_list))"
   ]
  },
  {
   "cell_type": "markdown",
   "id": "96fead27",
   "metadata": {
    "ExecuteTime": {
     "end_time": "2023-06-15T10:18:22.220464Z",
     "start_time": "2023-06-15T10:18:22.215833Z"
    }
   },
   "source": [
    "Очікуваний результат:\n",
    "\n",
    "```\n",
    "    [4, 16, 36, 64, 100]\n",
    "    [324, 2500, 4, 64, 196, 1764]\n",
    "    [4.0]\n",
    "```"
   ]
  },
  {
   "cell_type": "markdown",
   "id": "93830499",
   "metadata": {},
   "source": [
    "4. Наданий список фруктів. Запишіть у новий список лише ті фрукти, які містять у своїй назві літеру `a`. Виведіть фінальний список на екран.\n",
    "\n",
    "Виконайте завдання із використанням циклу, та через `list comprehension` - двома способами окремо.  \n",
    "Увага! В цьому завданні логіку перевірки чи містить рядок літеру можна винести у функцію. Але якщо не виносити, то реалізація з `list comprehension` буде цікавішою :)"
   ]
  },
  {
   "cell_type": "code",
   "execution_count": 13,
   "id": "9d52d585",
   "metadata": {
    "ExecuteTime": {
     "end_time": "2023-06-16T11:04:38.519497Z",
     "start_time": "2023-06-16T11:04:38.489031Z"
    }
   },
   "outputs": [],
   "source": [
    "fruits = [\"apple\", \"banana\", \"cherry\", \"date\", \"elderberry\", \"fig\", \"grape\", \"honeydew\", \"indian prune\", \"jackfruit\", \"kiwi\", \"lemon\", \"mango\", \"nectarine\", \"orange\", \"pineapple\", \"quince\", \"raspberry\", \"strawberry\", \"tangerine\", \"ugli fruit\", \"victoria plum\", \"watermelon\", \"xigua\", \"yellow passionfruit\", \"zucchini\"]"
   ]
  },
  {
   "cell_type": "code",
   "execution_count": 14,
   "id": "e503441f",
   "metadata": {},
   "outputs": [
    {
     "name": "stdout",
     "output_type": "stream",
     "text": [
      "['apple', 'banana', 'date', 'grape', 'indian prune', 'jackfruit', 'mango', 'nectarine', 'orange', 'pineapple', 'raspberry', 'strawberry', 'tangerine', 'victoria plum', 'watermelon', 'xigua', 'yellow passionfruit']\n"
     ]
    }
   ],
   "source": [
    "# List Comprehension\n",
    "\n",
    "output_list = [fruit for fruit in fruits if 'a' in fruit]\n",
    "print(output_list)"
   ]
  },
  {
   "cell_type": "code",
   "execution_count": 15,
   "id": "5ec4279b",
   "metadata": {},
   "outputs": [
    {
     "name": "stdout",
     "output_type": "stream",
     "text": [
      "['apple', 'banana', 'date', 'grape', 'indian prune', 'jackfruit', 'mango', 'nectarine', 'orange', 'pineapple', 'raspberry', 'strawberry', 'tangerine', 'victoria plum', 'watermelon', 'xigua', 'yellow passionfruit']\n"
     ]
    }
   ],
   "source": [
    "# For loop\n",
    "\n",
    "output_list_3 = []\n",
    "\n",
    "for fruit1 in fruits:\n",
    "    if 'a' in fruit1:\n",
    "        output_list_3.append(fruit1)\n",
    "    else:\n",
    "        continue\n",
    "        \n",
    "print(output_list_3)"
   ]
  },
  {
   "cell_type": "markdown",
   "id": "6eba3ce5",
   "metadata": {
    "ExecuteTime": {
     "end_time": "2023-06-16T11:12:20.070099Z",
     "start_time": "2023-06-16T11:12:20.065489Z"
    }
   },
   "source": [
    "5.Заданий список чисел. Створіть новий список на основі заданоо за наступною логікою\n",
    "- якщо число більше або дорівнює 45, то в новий список додаємо це число + 5. Наприклад, для числа 50 вихідного списку, в новий ми додамо число 55\n",
    "- інакше - це число - 4. Наприклад, для числа 30 вихідного списку, в новий ми додамо число 26  \n",
    "\n",
    "Виведіть отриманий список на екран.\n",
    "\n",
    "Реалізуйте логіку через цикл та через `list comprehension` - двома способами окремо."
   ]
  },
  {
   "cell_type": "code",
   "execution_count": 16,
   "id": "64c30414",
   "metadata": {
    "ExecuteTime": {
     "end_time": "2023-06-16T11:13:01.047506Z",
     "start_time": "2023-06-16T11:13:01.044731Z"
    }
   },
   "outputs": [],
   "source": [
    "input_list = [22, 13, 45, 50, 98, 69, 43, 44, 1]"
   ]
  },
  {
   "cell_type": "code",
   "execution_count": 17,
   "id": "0e3a8bcd",
   "metadata": {},
   "outputs": [
    {
     "name": "stdout",
     "output_type": "stream",
     "text": [
      "[18, 9, 50, 55, 103, 74, 39, 40, -3]\n"
     ]
    }
   ],
   "source": [
    "# List comprehension\n",
    "\n",
    "output_list = [num + 5 if num >= 45 else num - 4 for num in input_list]\n",
    "print(output_list)"
   ]
  },
  {
   "cell_type": "code",
   "execution_count": 18,
   "id": "3d82ff5d",
   "metadata": {},
   "outputs": [
    {
     "name": "stdout",
     "output_type": "stream",
     "text": [
      "[18, 9, 50, 55, 103, 74, 39, 40, -3]\n"
     ]
    }
   ],
   "source": [
    "# For loop\n",
    "\n",
    "output_list_4 = []\n",
    "\n",
    "for num4 in input_list:\n",
    "    if num4 >= 45:\n",
    "        output_list_4.append(num4 + 5)\n",
    "    else:\n",
    "        output_list_4.append(num4 - 4)\n",
    "        \n",
    "print(output_list_4)"
   ]
  },
  {
   "cell_type": "markdown",
   "id": "3788acf1",
   "metadata": {},
   "source": [
    "6.Заданий список `input_list` з пропущеними значеннями. Напишіть логіку, за якою ми будемо створювати новий список такий, що якщо значення None, то ми замість нього вставляємо 0, інакше - елемент вихідного спику.\n",
    "Тобто зі списку [1, None, 2] за цією логікою ми отримаємо [1, 0, 2] у новому списку.\n",
    "\n",
    "Виведіть отриманий список на екран.\n",
    "\n",
    "Реалізуйте логіку через цикл та через list comprehension - двома способами окремо."
   ]
  },
  {
   "cell_type": "code",
   "execution_count": 19,
   "id": "7124a4c2",
   "metadata": {
    "ExecuteTime": {
     "end_time": "2023-06-16T11:17:59.925084Z",
     "start_time": "2023-06-16T11:17:59.922391Z"
    }
   },
   "outputs": [],
   "source": [
    "input_list = [22, None, 13, None, None, 45, 50, 98, None, 69, 43, 44, 1, None]"
   ]
  },
  {
   "cell_type": "code",
   "execution_count": 20,
   "id": "e7212a8c",
   "metadata": {},
   "outputs": [
    {
     "name": "stdout",
     "output_type": "stream",
     "text": [
      "[22, 0, 13, 0, 0, 45, 50, 98, 0, 69, 43, 44, 1, 0]\n"
     ]
    }
   ],
   "source": [
    "# List comprehension\n",
    "\n",
    "output_list = [0 if num == None else num for num in input_list]\n",
    "print(output_list)"
   ]
  },
  {
   "cell_type": "code",
   "execution_count": 21,
   "id": "35a7047d",
   "metadata": {},
   "outputs": [
    {
     "name": "stdout",
     "output_type": "stream",
     "text": [
      "[1, 0, 1, 0, 0, 1, 1, 1, 0, 1, 1, 1, 1, 0]\n"
     ]
    }
   ],
   "source": [
    "# For loop\n",
    "\n",
    "output_list_5 = []\n",
    "\n",
    "for num5 in input_list:\n",
    "    if num5 == None:\n",
    "        output_list_5.append(0)\n",
    "    else:\n",
    "        output_list_5.append(num4)\n",
    "        \n",
    "print(output_list_5)"
   ]
  },
  {
   "cell_type": "markdown",
   "id": "6d491849",
   "metadata": {},
   "source": [
    "7.Заданий клас, який описує коло та вміє рахувати площу кола по заданому радіусу. Створіть два кола з радіусами 5 і 11. Обчислість з допомогою функціоналу класу площі цих двох кіл і виведіть результати на екран."
   ]
  },
  {
   "cell_type": "code",
   "execution_count": 22,
   "id": "fa5b47ac",
   "metadata": {
    "ExecuteTime": {
     "end_time": "2023-06-16T11:36:33.504851Z",
     "start_time": "2023-06-16T11:36:33.498537Z"
    }
   },
   "outputs": [],
   "source": [
    "import math\n",
    "\n",
    "class Circle:\n",
    "    def __init__(self, radius):\n",
    "        self.radius = radius\n",
    "\n",
    "    def calculate_area(self):\n",
    "        return round(math.pi * self.radius ** 2, 2)"
   ]
  },
  {
   "cell_type": "code",
   "execution_count": 23,
   "id": "2bcdc94a",
   "metadata": {},
   "outputs": [
    {
     "name": "stdout",
     "output_type": "stream",
     "text": [
      "78.54\n",
      "380.13\n"
     ]
    }
   ],
   "source": [
    "circle_1 = Circle(5)\n",
    "circle_2 = Circle(11)\n",
    "\n",
    "circle_1_area = circle_1.calculate_area()\n",
    "circle_2_area = circle_2.calculate_area()\n",
    "\n",
    "print(circle_1_area)\n",
    "print(circle_2_area)"
   ]
  },
  {
   "cell_type": "markdown",
   "id": "430f698b",
   "metadata": {},
   "source": [
    "8.Додайте в клас `Circle`, визначений в попередньому завданні, метод для обчислення периметра `calculate_perimeter` з округленням до двох цифр після коми. Периметр кола рахується за формулою `C = 2 · π · r`, де π - це значення числа Пі, яке ми можемо отримати з math.pi, а r - радіус кола. Спопіюйте визначення класу і додайте в нього новий метод. Після цього створіть нові кола з радіусами 5 і 11 та обчисліть їх периметри.   \n",
    "Увага: нам треба додати новий метод, але ми нічого не видаляємо :)"
   ]
  },
  {
   "cell_type": "code",
   "execution_count": 24,
   "id": "731544fd",
   "metadata": {},
   "outputs": [],
   "source": [
    "import math\n",
    "\n",
    "class Circle:\n",
    "    def __init__(self, radius):\n",
    "        self.radius = radius\n",
    "\n",
    "    def calculate_area(self):\n",
    "        return round(math.pi * self.radius ** 2, 2)\n",
    "    \n",
    "    def calculate_perimeter(self):\n",
    "        return round(2 * math.pi * self.radius, 2) "
   ]
  },
  {
   "cell_type": "code",
   "execution_count": 25,
   "id": "eb1a38fd",
   "metadata": {},
   "outputs": [
    {
     "name": "stdout",
     "output_type": "stream",
     "text": [
      "Circle 1 - area: 78.54, perimeter: 31.42\n",
      "Circle 1 - area: 380.13, perimeter: 69.12\n"
     ]
    }
   ],
   "source": [
    "circle_1 = Circle(5)\n",
    "circle_2 = Circle(11)\n",
    "\n",
    "circle_1_area = circle_1.calculate_area()\n",
    "circle_1_perimeter = circle_1.calculate_perimeter()\n",
    "circle_2_area = circle_2.calculate_area()\n",
    "circle_2_perimeter = circle_2.calculate_perimeter()\n",
    "\n",
    "print(f'Circle 1 - area: {circle_1_area}, perimeter: {circle_1_perimeter}')\n",
    "print(f'Circle 1 - area: {circle_2_area}, perimeter: {circle_2_perimeter}')"
   ]
  },
  {
   "cell_type": "markdown",
   "id": "4a39e47f",
   "metadata": {},
   "source": [
    "9.Створіть клас під назвою `Student`, який має два атрибути: `name` (ім'я) та `grade` (оцінка). Оцінкою може були літера - з набору  [\"F\", \"D\", \"C\", \"B\", \"A\"], де \"А\" - найвища оцінка, \"F\" - найнижча.  Клас повинен мати наступні функціональні можливості:\n",
    "\n",
    "1. Метод `__init__`, який ініціалізує `name` та `grade`.\n",
    "2. Метод `display_student()`, який відображає ім'я та оцінку студента з допомогою `print`. Форматування - на Ваш розсуд.\n",
    "3. Метод `upgrade_grade()`, який підвищує оцінку на 1 рівень (наприклад, з \"B\" на \"A\"), якщо вона вже не \"A\". Якщо вже \"А\", то необхідно вивести повідомлення про те, що оцінка не може бути підвищена, оскільки вона вже і так найвища.\n",
    "\n",
    "Після створення класу, створіть 2 екземпляри `Student` з вигаданими імʼями та оцінками, і перевірте роботу методів `display_student()` та `upgrade_grade()`. Виведіть результат перевірки на екран."
   ]
  },
  {
   "cell_type": "code",
   "execution_count": 26,
   "id": "51ef0571",
   "metadata": {},
   "outputs": [],
   "source": [
    "class Student:\n",
    "    \n",
    "    def __init__(self, name, grade):\n",
    "        self.name = name\n",
    "        self.grade = grade\n",
    "    \n",
    "    def display_student(self):\n",
    "        print(f'Student {self.name}, grade - {self.grade}')\n",
    "    \n",
    "    def upgrade_grade(self):\n",
    "        \n",
    "        if self.grade.lower() == 'a':\n",
    "            print('Оцінка не може бути підвищена, оскільки вона вже найвища')\n",
    "            return self.grade\n",
    "        elif self.grade.lower() == 'b':\n",
    "            self.grade = 'A'\n",
    "        elif self.grade.lower() == 'c':\n",
    "            self.grade = 'B'\n",
    "        elif self.grade.lower() == 'd':\n",
    "            self.grade = 'C'\n",
    "        elif self.grade.lower() == 'f':\n",
    "            self.grade = 'D'\n",
    "        \n",
    "        return self.grade"
   ]
  },
  {
   "cell_type": "code",
   "execution_count": 27,
   "id": "21169801",
   "metadata": {},
   "outputs": [
    {
     "name": "stdout",
     "output_type": "stream",
     "text": [
      "Student Jerry, grade - A\n",
      "Student Tom, grade - D\n",
      "Student Frankie, grade - F\n",
      "Оцінка не може бути підвищена, оскільки вона вже найвища\n"
     ]
    },
    {
     "data": {
      "text/plain": [
       "'A'"
      ]
     },
     "metadata": {},
     "output_type": "display_data"
    },
    {
     "data": {
      "text/plain": [
       "'C'"
      ]
     },
     "metadata": {},
     "output_type": "display_data"
    },
    {
     "data": {
      "text/plain": [
       "'D'"
      ]
     },
     "metadata": {},
     "output_type": "display_data"
    }
   ],
   "source": [
    "student_1 = Student('Jerry', 'A')\n",
    "student_2 = Student('Tom', 'D')\n",
    "student_3 = Student('Frankie', 'F')\n",
    "\n",
    "student_1.display_student()\n",
    "student_2.display_student()\n",
    "student_3.display_student()\n",
    "\n",
    "student_1_grade = student_1.upgrade_grade()\n",
    "student_2_grade = student_2.upgrade_grade()\n",
    "student_3_grade = student_3.upgrade_grade()\n",
    "\n",
    "display(\n",
    "    student_1_grade,\n",
    "    student_2_grade,\n",
    "    student_3_grade\n",
    ")"
   ]
  },
  {
   "cell_type": "markdown",
   "id": "fbf61911",
   "metadata": {},
   "source": [
    "10.Створіть клас з назвою `GraduateStudent`, який є нащадком класу `Student` з попереднього завдання.\n",
    "Клас `GraduateStudent` повинен мати додатковий атрибут `thesis_title` (назва дисертації - тип str). Тобто цей атрибут має зʼявитись при ініціації екземпляру класу.  \n",
    "Він також повинен мати метод `display_thesis()`, який виводить назву дисертації.\n",
    "\n",
    "Після створення класу, створіть екземпляр `GraduateStudent` і перевірте роботу методів `display_student()`, `upgrade_grade()`, та `display_thesis()`. Виведіть результат перевірки на екран.\n",
    "\n"
   ]
  },
  {
   "cell_type": "code",
   "execution_count": 28,
   "id": "aafe9159",
   "metadata": {},
   "outputs": [],
   "source": [
    "class GraduateStudent(Student):\n",
    "    \n",
    "    def __init__(self, name, grade, thesis_title):\n",
    "        super().__init__(name, grade)\n",
    "        self.thesis_title = thesis_title\n",
    "    \n",
    "    def display_thesis(self):\n",
    "        print(f'Thesis title of student {self.name} with grade {self.grade} - \"{self.thesis_title}\"')"
   ]
  },
  {
   "cell_type": "code",
   "execution_count": 29,
   "id": "7c09811b",
   "metadata": {},
   "outputs": [],
   "source": [
    "graduate_student_1 = GraduateStudent('Alice', 'C', 'This World is not perfect')"
   ]
  },
  {
   "cell_type": "code",
   "execution_count": 30,
   "id": "1409c8ae",
   "metadata": {},
   "outputs": [
    {
     "name": "stdout",
     "output_type": "stream",
     "text": [
      "Student Alice, grade - C\n",
      "Grade before upgrade - C\n",
      "Grade before upgrade - B\n",
      "Thesis title of student Alice with grade B - \"This World is not perfect\"\n"
     ]
    }
   ],
   "source": [
    "graduate_student_1.display_student()\n",
    "\n",
    "print(f'Grade before upgrade - {graduate_student_1.grade}')\n",
    "graduate_student_1.upgrade_grade()\n",
    "print(f'Grade before upgrade - {graduate_student_1.grade}')\n",
    "\n",
    "graduate_student_1.display_thesis()"
   ]
  },
  {
   "cell_type": "code",
   "execution_count": null,
   "id": "ffb7dd4a",
   "metadata": {},
   "outputs": [],
   "source": []
  }
 ],
 "metadata": {
  "kernelspec": {
   "display_name": "Python 3 (ipykernel)",
   "language": "python",
   "name": "python3"
  },
  "language_info": {
   "codemirror_mode": {
    "name": "ipython",
    "version": 3
   },
   "file_extension": ".py",
   "mimetype": "text/x-python",
   "name": "python",
   "nbconvert_exporter": "python",
   "pygments_lexer": "ipython3",
   "version": "3.11.5"
  },
  "toc": {
   "base_numbering": 1,
   "nav_menu": {},
   "number_sections": true,
   "sideBar": true,
   "skip_h1_title": false,
   "title_cell": "Table of Contents",
   "title_sidebar": "Contents",
   "toc_cell": false,
   "toc_position": {},
   "toc_section_display": true,
   "toc_window_display": false
  }
 },
 "nbformat": 4,
 "nbformat_minor": 5
}
